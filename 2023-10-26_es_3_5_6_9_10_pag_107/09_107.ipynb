{
 "cells": [
  {
   "cell_type": "code",
   "execution_count": 1,
   "id": "81b49592",
   "metadata": {},
   "outputs": [],
   "source": [
    "import numpy as np"
   ]
  },
  {
   "cell_type": "code",
   "execution_count": 2,
   "id": "5589c72d",
   "metadata": {},
   "outputs": [],
   "source": [
    "matches_a = np.random.randint(1, 7, (10, 1000))\n",
    "matches_b = np.random.randint(1, 7, (10, 1000))\n",
    "\n",
    "match_a = matches_a[0]\n",
    "match_b = matches_b[0]\n",
    "\n",
    "#print(match_a)\n",
    "#print(match_b)"
   ]
  },
  {
   "cell_type": "code",
   "execution_count": 3,
   "id": "a04ba15e",
   "metadata": {},
   "outputs": [
    {
     "name": "stdout",
     "output_type": "stream",
     "text": [
      "punti di a: 502.0\n",
      "punti di b: 498.0\n"
     ]
    }
   ],
   "source": [
    "punti_a = np.count_nonzero(match_a > match_b) + np.count_nonzero(match_a == match_b) / 2\n",
    "punti_b = np.count_nonzero(match_b > match_a) + np.count_nonzero(match_a == match_b) / 2\n",
    "\n",
    "print(f'punti di a: {punti_a}')\n",
    "print(f'punti di b: {punti_b}')"
   ]
  },
  {
   "cell_type": "markdown",
   "id": "c53d8a13",
   "metadata": {},
   "source": [
    "#### eccezione"
   ]
  },
  {
   "cell_type": "code",
   "execution_count": 4,
   "id": "a02f7755",
   "metadata": {},
   "outputs": [
    {
     "name": "stdout",
     "output_type": "stream",
     "text": [
      "punti di a: 430.5\n",
      "punti di b: 569.5\n"
     ]
    }
   ],
   "source": [
    "m_a = np.random.randint(1, 7, 1000)\n",
    "m_b = np.random.choice(np.array([1, 2, 3, 4, 5, 5, 6, 6]))\n",
    "\n",
    "p_a = np.count_nonzero(m_a > m_b) + np.count_nonzero(m_a == m_b) / 2\n",
    "p_b = np.count_nonzero(m_b > m_a) + np.count_nonzero(m_a == m_b) / 2\n",
    "\n",
    "print(f'punti di a: {p_a}')\n",
    "print(f'punti di b: {p_b}')"
   ]
  },
  {
   "cell_type": "code",
   "execution_count": null,
   "id": "515442dd",
   "metadata": {},
   "outputs": [],
   "source": []
  }
 ],
 "metadata": {
  "kernelspec": {
   "display_name": "Python 3 (ipykernel)",
   "language": "python",
   "name": "python3"
  },
  "language_info": {
   "codemirror_mode": {
    "name": "ipython",
    "version": 3
   },
   "file_extension": ".py",
   "mimetype": "text/x-python",
   "name": "python",
   "nbconvert_exporter": "python",
   "pygments_lexer": "ipython3",
   "version": "3.11.4"
  }
 },
 "nbformat": 4,
 "nbformat_minor": 5
}

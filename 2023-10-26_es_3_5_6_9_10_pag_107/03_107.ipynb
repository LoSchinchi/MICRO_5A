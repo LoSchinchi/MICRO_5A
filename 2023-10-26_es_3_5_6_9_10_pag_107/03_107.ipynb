{
 "cells": [
  {
   "cell_type": "code",
   "execution_count": null,
   "id": "ff0346ac",
   "metadata": {},
   "outputs": [],
   "source": [
    "import numpy as np"
   ]
  },
  {
   "cell_type": "code",
   "execution_count": null,
   "id": "471f0a47",
   "metadata": {},
   "outputs": [],
   "source": [
    "# 0 testa\n",
    "# 1 croce\n",
    "\n",
    "PERC = 55\n",
    "LEN = 1000\n",
    "num = PERC * LEN / 100\n",
    "\n",
    "matches = np.random.randint(0, 2, (10000, LEN))"
   ]
  },
  {
   "cell_type": "code",
   "execution_count": null,
   "id": "fe9d6add",
   "metadata": {},
   "outputs": [],
   "source": [
    "rows = np.sum(matches, axis=1)\n",
    "#print(rows)\n",
    "n_matches = np.count_nonzero(rows > num)\n",
    "\n",
    "print(f'numero di partite: {n_matches}')"
   ]
  }
 ],
 "metadata": {
  "kernelspec": {
   "display_name": "Python 3 (ipykernel)",
   "language": "python",
   "name": "python3"
  },
  "language_info": {
   "codemirror_mode": {
    "name": "ipython",
    "version": 3
   },
   "file_extension": ".py",
   "mimetype": "text/x-python",
   "name": "python",
   "nbconvert_exporter": "python",
   "pygments_lexer": "ipython3",
   "version": "3.11.4"
  }
 },
 "nbformat": 4,
 "nbformat_minor": 5
}

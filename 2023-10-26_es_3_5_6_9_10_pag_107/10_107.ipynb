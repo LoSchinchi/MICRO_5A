{
 "cells": [
  {
   "cell_type": "code",
   "execution_count": null,
   "id": "5a713ee2",
   "metadata": {},
   "outputs": [],
   "source": [
    "import numpy as np"
   ]
  },
  {
   "cell_type": "code",
   "execution_count": null,
   "id": "7de89b49",
   "metadata": {},
   "outputs": [],
   "source": [
    "DIM = 1000\n",
    "values = np.random.normal(19, 5, DIM)\n",
    "\n",
    "ind_err = np.random.choice(np.arange(0, DIM), 20, replace=False) # così sono tutti diversi\n",
    "values[ind_err] = 9999.99\n",
    "values"
   ]
  },
  {
   "cell_type": "code",
   "execution_count": null,
   "id": "82a84b39",
   "metadata": {},
   "outputs": [],
   "source": [
    "indexes = np.arange(0, DIM)[values == 9999.99]\n",
    "r_indexes = np.roll(indexes, -1)\n",
    "\n",
    "print(indexes)\n",
    "#print(r_indexes)\n",
    "if np.count_nonzero(indexes + 5 > r_indexes) > 0:\n",
    "    print('la centralina deve esseree riparata')"
   ]
  },
  {
   "cell_type": "code",
   "execution_count": null,
   "id": "74416ea3",
   "metadata": {},
   "outputs": [],
   "source": [
    "values = values[values < 9999.99]\n",
    "\n",
    "print(f'media: {np.mean(values)}')\n",
    "print(f'max: {np.max(values)}')\n",
    "print(f'min: {np.min(values)}')"
   ]
  }
 ],
 "metadata": {
  "kernelspec": {
   "display_name": "Python 3 (ipykernel)",
   "language": "python",
   "name": "python3"
  },
  "language_info": {
   "codemirror_mode": {
    "name": "ipython",
    "version": 3
   },
   "file_extension": ".py",
   "mimetype": "text/x-python",
   "name": "python",
   "nbconvert_exporter": "python",
   "pygments_lexer": "ipython3",
   "version": "3.11.4"
  }
 },
 "nbformat": 4,
 "nbformat_minor": 5
}

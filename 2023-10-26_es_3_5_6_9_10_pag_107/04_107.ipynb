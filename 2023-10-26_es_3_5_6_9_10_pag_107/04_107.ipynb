{
 "cells": [
  {
   "cell_type": "code",
   "execution_count": 3,
   "id": "d7d9d195",
   "metadata": {},
   "outputs": [],
   "source": [
    "import numpy as np"
   ]
  },
  {
   "cell_type": "code",
   "execution_count": 93,
   "id": "17b153e4",
   "metadata": {},
   "outputs": [
    {
     "name": "stdout",
     "output_type": "stream",
     "text": [
      "[[  3   3   5 ... 333 350 351]\n",
      " [  6   9  29 ... 275 298 360]\n",
      " [ 18  19  35 ... 347 356 364]\n",
      " ...\n",
      " [  5   9   9 ... 314 339 344]\n",
      " [  6   7  50 ... 324 330 354]\n",
      " [  5   8  14 ... 334 359 363]]\n"
     ]
    },
    {
     "data": {
      "text/plain": [
       "555"
      ]
     },
     "execution_count": 93,
     "metadata": {},
     "output_type": "execute_result"
    }
   ],
   "source": [
    "DIM = 1000\n",
    "eta = np.random.randint(1, 365, (DIM, 25))\n",
    "eta = np.sort(eta, axis=1)\n",
    "print(eta)\n",
    "eta_r = np.roll(eta, -1, axis=1)\n",
    "\n",
    "res = eta == eta_r\n",
    "DIM - np.sum(np.count_nonzero(res,axis=1) == 0)"
   ]
  }
 ],
 "metadata": {
  "kernelspec": {
   "display_name": "Python 3 (ipykernel)",
   "language": "python",
   "name": "python3"
  },
  "language_info": {
   "codemirror_mode": {
    "name": "ipython",
    "version": 3
   },
   "file_extension": ".py",
   "mimetype": "text/x-python",
   "name": "python",
   "nbconvert_exporter": "python",
   "pygments_lexer": "ipython3",
   "version": "3.11.4"
  }
 },
 "nbformat": 4,
 "nbformat_minor": 5
}

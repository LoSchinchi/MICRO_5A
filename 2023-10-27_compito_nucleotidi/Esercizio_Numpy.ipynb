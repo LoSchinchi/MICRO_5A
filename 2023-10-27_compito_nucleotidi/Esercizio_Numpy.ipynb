{
 "cells": [
  {
   "cell_type": "code",
   "execution_count": 2,
   "id": "cd7f7794",
   "metadata": {},
   "outputs": [],
   "source": [
    "import numpy as np"
   ]
  },
  {
   "cell_type": "markdown",
   "id": "a063bca9",
   "metadata": {},
   "source": [
    "### Esercizio 1\n",
    "Nel file `covid-19_gen1.txt` è presente l'RNA di un virus SARS-COV-2. L'RNA è una sequenza in cui si alternano 4 simboli (detti nucleotidi): A, T, C, G.\n",
    "L'RNA del  virus SARS-COV-2 contiene 29903 nucleotidi. Leggi il file e crea un array di Numpy contenente i 29903 elementi, uno per ogni nucleotide secondo l'ordine contenuto nel file.\n",
    "\n",
    "Utilizza Numpy per:\n",
    "1. calcolare la frequenza assoluta di ogni nucleotide;\n",
    "2. calcolare la frequenza assoluta della sequenza A,T,G;\n",
    "4. sapendo che la sequenza A,T,G,T,T,T,G,T,T,T,T,T sta all'inzio del segmento di RNA che codifica la proteina spike, individuare se la proteina spike è presente nell'RNA: in caso affermativo ottenere la posizione iniziale della proteina spike all'interno dell'array. *SUGGERIMENTO*: a partire dall'array di 29903 elementi costruisci la matrice contenente tutte le possibili sequenze di 12 nucleotidi contenute nell'array iniziale."
   ]
  },
  {
   "cell_type": "code",
   "execution_count": 3,
   "id": "8bdf586f",
   "metadata": {},
   "outputs": [],
   "source": [
    "fp = open('covid-19_gen1.txt', 'r')\n",
    "text = ''.join(fp.readlines()).replace('\\n', '')\n",
    "nucl = [c for c in text]\n",
    "#nucl\n",
    "rna = np.array(nucl)\n",
    "fp.close()\n",
    "#rna"
   ]
  },
  {
   "cell_type": "code",
   "execution_count": 4,
   "id": "fc00042f",
   "metadata": {},
   "outputs": [
    {
     "name": "stdout",
     "output_type": "stream",
     "text": [
      "frequenza assoluta di A: 0.29943483931378123\n",
      "frequenza assoluta di T: 0.32083737417650404\n",
      "frequenza assoluta di C: 0.18366050229074005\n",
      "frequenza assoluta di G: 0.19606728421897468\n"
     ]
    }
   ],
   "source": [
    "print(f\"frequenza assoluta di A: {np.count_nonzero(rna == 'A') / rna.size}\")\n",
    "print(f\"frequenza assoluta di T: {np.count_nonzero(rna == 'T') / rna.size}\")\n",
    "print(f\"frequenza assoluta di C: {np.count_nonzero(rna == 'C') / rna.size}\")\n",
    "print(f\"frequenza assoluta di G: {np.count_nonzero(rna == 'G') / rna.size}\")"
   ]
  },
  {
   "cell_type": "code",
   "execution_count": 5,
   "id": "ff8ad7ed",
   "metadata": {},
   "outputs": [
    {
     "name": "stdout",
     "output_type": "stream",
     "text": [
      "frequenza assoluta di ATG: 0.024245059024178176\n"
     ]
    }
   ],
   "source": [
    "toSearch = 'ATG'\n",
    "rna1 = np.roll(rna, -1)\n",
    "rna2 = np.roll(rna, -2)\n",
    "\n",
    "nOcc = np.count_nonzero((rna == 'A') & (rna1 == 'T') & (rna2 == 'G'))\n",
    "print(f'frequenza assoluta di ATG: {nOcc / rna.size}')"
   ]
  },
  {
   "cell_type": "code",
   "execution_count": 6,
   "id": "c9dc2a2c",
   "metadata": {},
   "outputs": [
    {
     "name": "stdout",
     "output_type": "stream",
     "text": [
      "12\n",
      "29903\n",
      "2491.9166666666665\n"
     ]
    }
   ],
   "source": [
    "seq = 'ATGTTTGTTTTT'\n",
    "print(len(seq))\n",
    "print(len(rna))\n",
    "print(len(rna) / len(seq))"
   ]
  },
  {
   "cell_type": "code",
   "execution_count": null,
   "id": "e63eaff3",
   "metadata": {},
   "outputs": [],
   "source": []
  }
 ],
 "metadata": {
  "kernelspec": {
   "display_name": "Python 3 (ipykernel)",
   "language": "python",
   "name": "python3"
  },
  "language_info": {
   "codemirror_mode": {
    "name": "ipython",
    "version": 3
   },
   "file_extension": ".py",
   "mimetype": "text/x-python",
   "name": "python",
   "nbconvert_exporter": "python",
   "pygments_lexer": "ipython3",
   "version": "3.11.4"
  }
 },
 "nbformat": 4,
 "nbformat_minor": 5
}

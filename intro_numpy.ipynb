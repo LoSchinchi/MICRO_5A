{
 "cells": [
  {
   "cell_type": "code",
   "execution_count": 1,
   "id": "db549d50",
   "metadata": {},
   "outputs": [
    {
     "data": {
      "text/plain": [
       "True"
      ]
     },
     "execution_count": 1,
     "metadata": {},
     "output_type": "execute_result"
    }
   ],
   "source": [
    "import numpy as np\n",
    "1e6 == 1000000"
   ]
  },
  {
   "cell_type": "code",
   "execution_count": null,
   "id": "2a035d00",
   "metadata": {
    "scrolled": true
   },
   "outputs": [],
   "source": [
    "%%timeit\n",
    "quadrati = np.arange(0, 1000000) ** 2"
   ]
  },
  {
   "cell_type": "markdown",
   "id": "a1275fbb",
   "metadata": {},
   "source": [
    "%%timeit\n",
    "quadrati = []\n",
    "for i in range(1000000):\n",
    "    quadrati.append(i ** 2)"
   ]
  },
  {
   "cell_type": "markdown",
   "id": "cc69543a",
   "metadata": {},
   "source": [
    "## Creare gli array unidimensionali"
   ]
  },
  {
   "cell_type": "code",
   "execution_count": null,
   "id": "68cc2bb7",
   "metadata": {},
   "outputs": [],
   "source": [
    "arr_di_zeri = np.zeros(10)\n",
    "arr_di_zeri"
   ]
  },
  {
   "cell_type": "code",
   "execution_count": null,
   "id": "e14c5070",
   "metadata": {},
   "outputs": [],
   "source": [
    "arr_di_zeri.dtype"
   ]
  },
  {
   "cell_type": "code",
   "execution_count": null,
   "id": "11734522",
   "metadata": {},
   "outputs": [],
   "source": [
    "arr_zeri_int = np.zeros(10, dtype=np.int8)\n",
    "arr_zeri_int"
   ]
  },
  {
   "cell_type": "code",
   "execution_count": null,
   "id": "8571dbd3",
   "metadata": {},
   "outputs": [],
   "source": [
    "arr_uni = np.ones(10)\n",
    "print(arr_uni)\n",
    "arr_cinque = np.ones(10) * 5 # BROADCAST\n",
    "print(arr_cinque)"
   ]
  },
  {
   "cell_type": "code",
   "execution_count": null,
   "id": "ca65664f",
   "metadata": {},
   "outputs": [],
   "source": [
    "arr_da_lista = np.array([1, 2, 3, 4, 1000])\n",
    "arr_da_lista"
   ]
  },
  {
   "cell_type": "code",
   "execution_count": 2,
   "id": "114d371a",
   "metadata": {},
   "outputs": [
    {
     "data": {
      "text/plain": [
       "array([4.24895992, 3.43807592, 4.7182637 , 3.70396453, 3.726801  ,\n",
       "       3.19240092, 4.32270132, 3.51804298, 4.03984632, 3.36513021])"
      ]
     },
     "execution_count": 2,
     "metadata": {},
     "output_type": "execute_result"
    }
   ],
   "source": [
    "np.random.uniform(3, 5, 10)"
   ]
  },
  {
   "cell_type": "code",
   "execution_count": null,
   "id": "fce73bff",
   "metadata": {},
   "outputs": [],
   "source": [
    "np.random.randint(1, 7, 10)"
   ]
  },
  {
   "cell_type": "code",
   "execution_count": null,
   "id": "36766ce1",
   "metadata": {},
   "outputs": [],
   "source": [
    "alice = np.random.randint(1, 7, 10)\n",
    "bob = np.random.randint(1, 7, 10)\n",
    "print(\"lanci di alice:\", alice)\n",
    "print(\"lanci  di  bob:\", bob)"
   ]
  },
  {
   "cell_type": "code",
   "execution_count": null,
   "id": "a80a8181",
   "metadata": {},
   "outputs": [],
   "source": [
    "np.count_nonzero(alice > bob)"
   ]
  },
  {
   "cell_type": "code",
   "execution_count": null,
   "id": "aa7de3ca",
   "metadata": {},
   "outputs": [],
   "source": [
    "array_di_interi = np.arange(4, 10)\n",
    "array_di_interi"
   ]
  },
  {
   "cell_type": "code",
   "execution_count": 3,
   "id": "c05709f6",
   "metadata": {},
   "outputs": [
    {
     "data": {
      "text/plain": [
       "array([  1,   4,   9,  16,  25,  36,  49,  64,  81, 100])"
      ]
     },
     "execution_count": 3,
     "metadata": {},
     "output_type": "execute_result"
    }
   ],
   "source": [
    "quadrati = np.arange(1,11) ** 2\n",
    "quadrati"
   ]
  },
  {
   "cell_type": "code",
   "execution_count": null,
   "id": "25a8ad46",
   "metadata": {},
   "outputs": [],
   "source": [
    "altezza = np.random.normal(175, 2, 10000)\n",
    "altezza"
   ]
  },
  {
   "cell_type": "code",
   "execution_count": null,
   "id": "a9e44c5c",
   "metadata": {},
   "outputs": [],
   "source": [
    "np.mean(altezza)"
   ]
  },
  {
   "cell_type": "code",
   "execution_count": null,
   "id": "3dbabe3a",
   "metadata": {},
   "outputs": [],
   "source": [
    "np.std(altezza)"
   ]
  },
  {
   "cell_type": "markdown",
   "id": "07e94c84",
   "metadata": {},
   "source": [
    "## Indicizzazione per booleani\n",
    "#### Una delle funzioni più potenti di numpy"
   ]
  },
  {
   "cell_type": "code",
   "execution_count": 5,
   "id": "531567f2",
   "metadata": {},
   "outputs": [
    {
     "data": {
      "text/plain": [
       "array([2, 5, 2, 2, 5, 4, 1, 5, 4, 5])"
      ]
     },
     "execution_count": 5,
     "metadata": {},
     "output_type": "execute_result"
    }
   ],
   "source": [
    "dadi = np.random.randint(1, 7, 10)\n",
    "dadi"
   ]
  },
  {
   "cell_type": "code",
   "execution_count": 6,
   "id": "19b45575",
   "metadata": {},
   "outputs": [
    {
     "data": {
      "text/plain": [
       "array([False,  True, False, False,  True,  True, False,  True,  True,\n",
       "        True])"
      ]
     },
     "execution_count": 6,
     "metadata": {},
     "output_type": "execute_result"
    }
   ],
   "source": [
    "#lanci > 3?\n",
    "lanci_gt_3 = dadi > 3\n",
    "lanci_gt_3"
   ]
  },
  {
   "cell_type": "code",
   "execution_count": 7,
   "id": "e423871c",
   "metadata": {},
   "outputs": [
    {
     "data": {
      "text/plain": [
       "array([5, 5, 4, 5, 4, 5])"
      ]
     },
     "execution_count": 7,
     "metadata": {},
     "output_type": "execute_result"
    }
   ],
   "source": [
    "dadi[lanci_gt_3] #indicizzo array con array di booleani"
   ]
  },
  {
   "cell_type": "code",
   "execution_count": null,
   "id": "23bf7128",
   "metadata": {},
   "outputs": [],
   "source": [
    "nomi = np.array(['alice', 'bob', 'trudy'])\n",
    "voti = np.array([7, 9, 2])"
   ]
  },
  {
   "cell_type": "code",
   "execution_count": null,
   "id": "e854b924",
   "metadata": {},
   "outputs": [],
   "source": [
    "#quali alunni sono sufficienti?\n",
    "nomi[voti >= 6]"
   ]
  },
  {
   "cell_type": "code",
   "execution_count": 4,
   "id": "3ecf9d27",
   "metadata": {},
   "outputs": [
    {
     "name": "stdout",
     "output_type": "stream",
     "text": [
      "[2 6 3 1 2 5 2 6 1 3]\n",
      "[3 3 6 2 1 3 4 4 1 6]\n"
     ]
    },
    {
     "data": {
      "text/plain": [
       "array([6, 2, 5, 6])"
      ]
     },
     "execution_count": 4,
     "metadata": {},
     "output_type": "execute_result"
    }
   ],
   "source": [
    "alice = np.random.randint(1, 7, 10)\n",
    "bob   = np.random.randint(1, 7, 10)\n",
    "print(alice)\n",
    "print(bob)\n",
    "alice[alice > bob]"
   ]
  },
  {
   "cell_type": "markdown",
   "id": "5e5b031a",
   "metadata": {},
   "source": [
    "### Array bidimensionali\n",
    "Es: \n",
    " - un'immagine in scale di grigi\n",
    " - un'immagine RGB a colori è costituita da 3 array 2D\n",
    " - un'immagine RGBA a colori è costituita da 4 array 2D\n",
    " - dati in forma di tabella"
   ]
  },
  {
   "cell_type": "code",
   "execution_count": 3,
   "id": "64be0d18",
   "metadata": {},
   "outputs": [
    {
     "data": {
      "text/plain": [
       "(3, 6)"
      ]
     },
     "execution_count": 3,
     "metadata": {},
     "output_type": "execute_result"
    }
   ],
   "source": [
    "mat_zeri = np.zeros((3, 6), dtype='int64')\n",
    "mat_zeri.shape"
   ]
  },
  {
   "cell_type": "code",
   "execution_count": 5,
   "id": "f8e2d2c3",
   "metadata": {
    "scrolled": true
   },
   "outputs": [
    {
     "data": {
      "text/plain": [
       "array([[[0.88910788, 0.05474528],\n",
       "        [0.00272385, 0.93800777],\n",
       "        [0.30885813, 0.7156593 ]],\n",
       "\n",
       "       [[0.87776942, 0.95141058],\n",
       "        [0.80867358, 0.88966991],\n",
       "        [0.25749867, 0.91365506]],\n",
       "\n",
       "       [[0.43670327, 0.99449129],\n",
       "        [0.48978528, 0.685503  ],\n",
       "        [0.52843812, 0.29428371]]])"
      ]
     },
     "execution_count": 5,
     "metadata": {},
     "output_type": "execute_result"
    }
   ],
   "source": [
    "array_3d = np.random.uniform(0, 1, (3, 3, 2))\n",
    "array_3d"
   ]
  },
  {
   "cell_type": "markdown",
   "id": "dd17c312",
   "metadata": {},
   "source": [
    "### operazioni matematiche di aggregazione\n",
    "per esempio:\n",
    "- somma\n",
    "- max, min\n",
    "- media\n",
    "- dev standard\n",
    "- somma cumulata"
   ]
  },
  {
   "cell_type": "code",
   "execution_count": 9,
   "id": "eb388c8a",
   "metadata": {
    "scrolled": true
   },
   "outputs": [
    {
     "name": "stdout",
     "output_type": "stream",
     "text": [
      "[  1   2   3   4   5   6   7   8   9  10  11  12  13  14  15  16  17  18\n",
      "  19  20  21  22  23  24  25  26  27  28  29  30  31  32  33  34  35  36\n",
      "  37  38  39  40  41  42  43  44  45  46  47  48  49  50  51  52  53  54\n",
      "  55  56  57  58  59  60  61  62  63  64  65  66  67  68  69  70  71  72\n",
      "  73  74  75  76  77  78  79  80  81  82  83  84  85  86  87  88  89  90\n",
      "  91  92  93  94  95  96  97  98  99 100]\n"
     ]
    },
    {
     "data": {
      "text/plain": [
       "5050"
      ]
     },
     "execution_count": 9,
     "metadata": {},
     "output_type": "execute_result"
    }
   ],
   "source": [
    "#somma\n",
    "arr = np.arange(1, 101)\n",
    "print(arr)\n",
    "np.sum(arr)"
   ]
  },
  {
   "cell_type": "code",
   "execution_count": 13,
   "id": "52f1c66a",
   "metadata": {},
   "outputs": [
    {
     "name": "stdout",
     "output_type": "stream",
     "text": [
      "[0.76503067 0.59664971 0.21204548 0.87466835 0.41392665 0.17610228\n",
      " 0.65495166 0.47905983 0.35407829 0.15316865]\n",
      "max: 0.87466834505424, min: 0.15316864966120025\n",
      "std: 0.2389494105273774\n",
      "somma comulativa [0.76503067 1.36168038 1.57372586 2.4483942  2.86232086 3.03842313\n",
      " 3.69337479 4.17243463 4.52651291 4.67968156]\n"
     ]
    }
   ],
   "source": [
    "arr = np.random.uniform(0, 1, 10)\n",
    "print(arr)\n",
    "print(f'max: {np.max(arr)}, min: {np.min(arr)}')\n",
    "print(f'std: {np.std(arr)}')\n",
    "print(f'somma comulativa {np.cumsum(arr)}')"
   ]
  },
  {
   "cell_type": "code",
   "execution_count": 17,
   "id": "59055cda",
   "metadata": {},
   "outputs": [
    {
     "data": {
      "text/plain": [
       "array([186, 189, 169, 175])"
      ]
     },
     "execution_count": 17,
     "metadata": {},
     "output_type": "execute_result"
    }
   ],
   "source": [
    "price = 178\n",
    "variaz = np.array([8, 3, -20, 6])\n",
    "price + np.cumsum(variaz)"
   ]
  },
  {
   "cell_type": "markdown",
   "id": "e479fea8",
   "metadata": {},
   "source": [
    "### cambiare forma agli array"
   ]
  },
  {
   "cell_type": "code",
   "execution_count": 30,
   "id": "a7fc4a18",
   "metadata": {},
   "outputs": [
    {
     "data": {
      "text/plain": [
       "array([[ 1,  2,  3,  4],\n",
       "       [ 5,  6,  7,  8],\n",
       "       [ 9, 10, 11, 12]])"
      ]
     },
     "execution_count": 30,
     "metadata": {},
     "output_type": "execute_result"
    }
   ],
   "source": [
    "array_1d = np.arange(1, 13)\n",
    "array_1d.reshape((3, -1))"
   ]
  },
  {
   "cell_type": "markdown",
   "id": "9c7e8669",
   "metadata": {},
   "source": [
    "#### esercizio\n",
    "dato n intero, generare l'array 2d in questo modo:\n",
    "    [[1, 2, 3, ..., n],\n",
    "     [1, 2, 3, ... ,n],\n",
    "     ...,\n",
    "     ...,\n",
    "     [1, 2, 3, ... ,n]];\n",
    "    con n righe"
   ]
  },
  {
   "cell_type": "code",
   "execution_count": 40,
   "id": "9824e969",
   "metadata": {},
   "outputs": [
    {
     "data": {
      "text/plain": [
       "array([[1, 2, 3, 4],\n",
       "       [1, 2, 3, 4],\n",
       "       [1, 2, 3, 4],\n",
       "       [1, 2, 3, 4]])"
      ]
     },
     "execution_count": 40,
     "metadata": {},
     "output_type": "execute_result"
    }
   ],
   "source": [
    "n = 4\n",
    "arr = np.arange(1, n**2 + 1)\n",
    "arr2 = (arr % n).reshape(n, -1)\n",
    "np.roll(arr2, 1) + 1"
   ]
  },
  {
   "cell_type": "code",
   "execution_count": 41,
   "id": "3b3d97c5",
   "metadata": {},
   "outputs": [
    {
     "data": {
      "text/plain": [
       "array([ 1,  2,  3,  4,  5,  6,  7,  8,  9, 10])"
      ]
     },
     "execution_count": 41,
     "metadata": {},
     "output_type": "execute_result"
    }
   ],
   "source": [
    "a1d = np.arange(1, 11)\n",
    "a1d"
   ]
  },
  {
   "cell_type": "code",
   "execution_count": 53,
   "id": "a7785342",
   "metadata": {},
   "outputs": [
    {
     "data": {
      "text/plain": [
       "array([ 2,  3,  4,  5,  6,  7,  8,  9, 10])"
      ]
     },
     "execution_count": 53,
     "metadata": {},
     "output_type": "execute_result"
    }
   ],
   "source": [
    "a1d[1:]"
   ]
  },
  {
   "cell_type": "code",
   "execution_count": 67,
   "id": "f86f4ba7",
   "metadata": {},
   "outputs": [
    {
     "data": {
      "text/plain": [
       "array([[0.77132064, 0.02075195, 0.63364823],\n",
       "       [0.74880388, 0.49850701, 0.22479665],\n",
       "       [0.19806286, 0.76053071, 0.16911084]])"
      ]
     },
     "execution_count": 67,
     "metadata": {},
     "output_type": "execute_result"
    }
   ],
   "source": [
    "np.random.seed(10)\n",
    "a2d = np.random.uniform(0, 1, (3, 3))\n",
    "a2d"
   ]
  },
  {
   "cell_type": "code",
   "execution_count": 68,
   "id": "dc724bdf",
   "metadata": {},
   "outputs": [
    {
     "data": {
      "text/plain": [
       "array([[0.02075195, 0.63364823],\n",
       "       [0.49850701, 0.22479665],\n",
       "       [0.76053071, 0.16911084]])"
      ]
     },
     "execution_count": 68,
     "metadata": {},
     "output_type": "execute_result"
    }
   ],
   "source": [
    "a2d[:,1:]"
   ]
  },
  {
   "cell_type": "code",
   "execution_count": 69,
   "id": "be112140",
   "metadata": {},
   "outputs": [
    {
     "data": {
      "text/plain": [
       "array([[0.77132064, 0.02075195, 0.63364823],\n",
       "       [0.74880388, 0.        , 0.        ],\n",
       "       [0.19806286, 0.        , 0.        ]])"
      ]
     },
     "execution_count": 69,
     "metadata": {},
     "output_type": "execute_result"
    }
   ],
   "source": [
    "a2d[1:,1:] = 0\n",
    "a2d"
   ]
  },
  {
   "cell_type": "markdown",
   "id": "9ca8574b",
   "metadata": {},
   "source": [
    "dato n intero, creare un array 1d[0, 1. 0, 1, ...] con len = n"
   ]
  },
  {
   "cell_type": "code",
   "execution_count": 72,
   "id": "95db2353",
   "metadata": {},
   "outputs": [
    {
     "data": {
      "text/plain": [
       "array([0, 1, 0, 1, 0, 1, 0, 1, 0, 1, 0, 1, 0, 1, 0, 1, 0, 1, 0, 1],\n",
       "      dtype=int8)"
      ]
     },
     "execution_count": 72,
     "metadata": {},
     "output_type": "execute_result"
    }
   ],
   "source": [
    "n = 20\n",
    "arr = np.zeros(n, dtype=np.int8)\n",
    "arr[1::2] = 1\n",
    "arr"
   ]
  },
  {
   "cell_type": "markdown",
   "id": "6c8c954a",
   "metadata": {},
   "source": [
    "dato n creare array 2d di tipo [[0, 1, 0, 1, ...], [0, 1, 0, 1, ...], ...]"
   ]
  },
  {
   "cell_type": "code",
   "execution_count": 94,
   "id": "32dd0ac9",
   "metadata": {},
   "outputs": [
    {
     "data": {
      "text/plain": [
       "array([[1, 0, 1, 0, 1, 0, 1, 0, 1, 0],\n",
       "       [0, 1, 0, 1, 0, 1, 0, 1, 0, 1],\n",
       "       [1, 0, 1, 0, 1, 0, 1, 0, 1, 0],\n",
       "       [0, 1, 0, 1, 0, 1, 0, 1, 0, 1],\n",
       "       [1, 0, 1, 0, 1, 0, 1, 0, 1, 0],\n",
       "       [0, 1, 0, 1, 0, 1, 0, 1, 0, 1],\n",
       "       [1, 0, 1, 0, 1, 0, 1, 0, 1, 0],\n",
       "       [0, 1, 0, 1, 0, 1, 0, 1, 0, 1],\n",
       "       [1, 0, 1, 0, 1, 0, 1, 0, 1, 0],\n",
       "       [0, 1, 0, 1, 0, 1, 0, 1, 0, 1]], dtype=int8)"
      ]
     },
     "execution_count": 94,
     "metadata": {},
     "output_type": "execute_result"
    }
   ],
   "source": [
    "n = 10\n",
    "arr = np.zeros((n, n), dtype=np.int8)\n",
    "arr[::2, ::2] = 1\n",
    "arr[1::2, 1::2] = 1\n",
    "arr"
   ]
  },
  {
   "cell_type": "markdown",
   "id": "ab6cf4e5",
   "metadata": {},
   "source": [
    "dato v=np.array([1, 2, 3, 1, -2, 4, 3, 1, 2]) trovare min e max locali e globali"
   ]
  },
  {
   "cell_type": "code",
   "execution_count": 113,
   "id": "9d0cc583",
   "metadata": {},
   "outputs": [
    {
     "name": "stdout",
     "output_type": "stream",
     "text": [
      "max: 4\n",
      "min: -2\n"
     ]
    },
    {
     "ename": "ValueError",
     "evalue": "The truth value of an array with more than one element is ambiguous. Use a.any() or a.all()",
     "output_type": "error",
     "traceback": [
      "\u001b[0;31m---------------------------------------------------------------------------\u001b[0m",
      "\u001b[0;31mValueError\u001b[0m                                Traceback (most recent call last)",
      "Cell \u001b[0;32mIn [113], line 7\u001b[0m\n\u001b[1;32m      5\u001b[0m prec \u001b[38;5;241m=\u001b[39m np\u001b[38;5;241m.\u001b[39mroll(v, \u001b[38;5;241m-\u001b[39m\u001b[38;5;241m1\u001b[39m)\n\u001b[1;32m      6\u001b[0m succ \u001b[38;5;241m=\u001b[39m np\u001b[38;5;241m.\u001b[39mroll(v, \u001b[38;5;241m1\u001b[39m)\n\u001b[0;32m----> 7\u001b[0m maxLoc \u001b[38;5;241m=\u001b[39m v[\u001b[43mv\u001b[49m\u001b[43m \u001b[49m\u001b[38;5;241;43m>\u001b[39;49m\u001b[43m \u001b[49m\u001b[43mprec\u001b[49m\u001b[43m \u001b[49m\u001b[38;5;129;43;01mand\u001b[39;49;00m\u001b[43m \u001b[49m\u001b[43mv\u001b[49m\u001b[43m \u001b[49m\u001b[38;5;241;43m>\u001b[39;49m\u001b[43m \u001b[49m\u001b[43msucc\u001b[49m]\n\u001b[1;32m      8\u001b[0m maxLoc\n",
      "\u001b[0;31mValueError\u001b[0m: The truth value of an array with more than one element is ambiguous. Use a.any() or a.all()"
     ]
    }
   ],
   "source": [
    "v = np.array([1, 2, 3, 1, -2, 4, 3, 1, 2])\n",
    "print('max:', np.max(v))\n",
    "print('min:', np.min(v))\n",
    "\n",
    "prec = np.roll(v, -1)\n",
    "succ = np.roll(v, 1)\n",
    "maxLoc = v[(v > prec) & (v > succ)]\n",
    "maxLoc"
   ]
  },
  {
   "cell_type": "code",
   "execution_count": null,
   "id": "3a108019",
   "metadata": {},
   "outputs": [],
   "source": []
  }
 ],
 "metadata": {
  "kernelspec": {
   "display_name": "Python 3 (ipykernel)",
   "language": "python",
   "name": "python3"
  },
  "language_info": {
   "codemirror_mode": {
    "name": "ipython",
    "version": 3
   },
   "file_extension": ".py",
   "mimetype": "text/x-python",
   "name": "python",
   "nbconvert_exporter": "python",
   "pygments_lexer": "ipython3",
   "version": "3.11.4"
  }
 },
 "nbformat": 4,
 "nbformat_minor": 5
}

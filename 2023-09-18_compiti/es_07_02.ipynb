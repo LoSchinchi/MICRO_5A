{
 "cells": [
  {
   "cell_type": "code",
   "execution_count": 1,
   "id": "c5d68829",
   "metadata": {},
   "outputs": [],
   "source": [
    "def eval_ciclo(lastRes=None):\n",
    "    espr = input('espressione: ')\n",
    "\n",
    "    if espr == 'fatto':\n",
    "        return lastRes\n",
    "    ris = eval(espr)\n",
    "    print(f'risultato di {espr}: {ris}')\n",
    "    return eval_ciclo(ris)"
   ]
  },
  {
   "cell_type": "code",
   "execution_count": 2,
   "id": "d9adf041",
   "metadata": {},
   "outputs": [
    {
     "name": "stdout",
     "output_type": "stream",
     "text": [
      "espressione: 4 + 6\n",
      "risultato di 4 + 6: 10\n",
      "espressione: 5-6*3 ** 2\n",
      "risultato di 5-6*3 ** 2: -49\n",
      "espressione: fatto\n",
      "ultimo risultato: -49\n"
     ]
    }
   ],
   "source": [
    "print(f'ultimo risultato: {eval_ciclo()}')"
   ]
  },
  {
   "cell_type": "code",
   "execution_count": null,
   "id": "166e80e6",
   "metadata": {},
   "outputs": [],
   "source": []
  }
 ],
 "metadata": {
  "kernelspec": {
   "display_name": "Python 3 (ipykernel)",
   "language": "python",
   "name": "python3"
  },
  "language_info": {
   "codemirror_mode": {
    "name": "ipython",
    "version": 3
   },
   "file_extension": ".py",
   "mimetype": "text/x-python",
   "name": "python",
   "nbconvert_exporter": "python",
   "pygments_lexer": "ipython3",
   "version": "3.11.4"
  }
 },
 "nbformat": 4,
 "nbformat_minor": 5
}

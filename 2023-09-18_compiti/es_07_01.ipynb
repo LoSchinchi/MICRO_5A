{
 "cells": [
  {
   "cell_type": "code",
   "execution_count": 4,
   "id": "abcfe9d5",
   "metadata": {},
   "outputs": [],
   "source": [
    "import math"
   ]
  },
  {
   "cell_type": "code",
   "execution_count": 3,
   "id": "3715689f",
   "metadata": {},
   "outputs": [],
   "source": [
    "def mia_radq(a, x=None):\n",
    "    if x is None:\n",
    "        x = a + 1\n",
    "\n",
    "    y = (x + a / x) / 2\n",
    "    if y == x:\n",
    "        return y\n",
    "    return mia_radq(a, y)"
   ]
  },
  {
   "cell_type": "code",
   "execution_count": 6,
   "id": "f84803b4",
   "metadata": {},
   "outputs": [],
   "source": [
    "def test_radq():\n",
    "    NOMI_CAMPI = ['a', 'mia_radq(a)', 'math.sqrt(a)', 'diff']\n",
    "    START_N, END_N = 1, 9\n",
    "\n",
    "    ris = []\n",
    "    for i in range(START_N, END_N + 1):\n",
    "        i = float(i)\n",
    "        mr, sq = mia_radq(i), math.sqrt(i)\n",
    "        ris.append({\n",
    "           'a': i,\n",
    "           'mia_radq': mr,\n",
    "           'sqrt': sq,\n",
    "           'diff': abs(sq - mr)\n",
    "        })\n",
    "\n",
    "    lens = [0] * len(NOMI_CAMPI)\n",
    "    for r in ris:\n",
    "        i = 0\n",
    "        for value in r.values():\n",
    "            lens[i] = max(lens[i], len(str(value)))\n",
    "            i += 1\n",
    "\n",
    "    firstL = ' '.join([s + ' ' * (lens[i] - len(s)) for i, s in enumerate(NOMI_CAMPI)])[:-1].strip()\n",
    "    secondL = ' '.join(['-' * len(s) + ' ' * (lens[i] - len(s)) for i, s in enumerate(NOMI_CAMPI)]).strip()\n",
    "    print(firstL)\n",
    "    print(secondL)\n",
    "\n",
    "    for r in ris:\n",
    "        line = ' '.join([str(val) + ' ' * (lens[i] - len(str(val))) for i, val in enumerate(r.values())]).strip()\n",
    "        print(line)\n"
   ]
  },
  {
   "cell_type": "code",
   "execution_count": 7,
   "id": "ec6366fe",
   "metadata": {},
   "outputs": [
    {
     "name": "stdout",
     "output_type": "stream",
     "text": [
      "a   mia_radq(a)        math.sqrt(a)       diff\n",
      "-   -----------        ------------       ----\n",
      "1.0 1.0                1.0                0.0\n",
      "2.0 1.414213562373095  1.4142135623730951 2.220446049250313e-16\n",
      "3.0 1.7320508075688772 1.7320508075688772 0.0\n",
      "4.0 2.0                2.0                0.0\n",
      "5.0 2.23606797749979   2.23606797749979   0.0\n",
      "6.0 2.449489742783178  2.449489742783178  0.0\n",
      "7.0 2.6457513110645907 2.6457513110645907 0.0\n",
      "8.0 2.82842712474619   2.8284271247461903 4.440892098500626e-16\n",
      "9.0 3.0                3.0                0.0\n"
     ]
    }
   ],
   "source": [
    "test_radq()"
   ]
  },
  {
   "cell_type": "code",
   "execution_count": null,
   "id": "1bb2e067",
   "metadata": {},
   "outputs": [],
   "source": []
  }
 ],
 "metadata": {
  "kernelspec": {
   "display_name": "Python 3 (ipykernel)",
   "language": "python",
   "name": "python3"
  },
  "language_info": {
   "codemirror_mode": {
    "name": "ipython",
    "version": 3
   },
   "file_extension": ".py",
   "mimetype": "text/x-python",
   "name": "python",
   "nbconvert_exporter": "python",
   "pygments_lexer": "ipython3",
   "version": "3.11.4"
  }
 },
 "nbformat": 4,
 "nbformat_minor": 5
}

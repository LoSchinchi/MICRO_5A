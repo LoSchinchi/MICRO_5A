{
 "cells": [
  {
   "cell_type": "code",
   "execution_count": 9,
   "id": "9489e7ac",
   "metadata": {},
   "outputs": [],
   "source": [
    "from math import sqrt, pi"
   ]
  },
  {
   "cell_type": "code",
   "execution_count": 2,
   "id": "a634352c",
   "metadata": {},
   "outputs": [],
   "source": [
    "def fact(n):\n",
    "    if n == 0:\n",
    "        return 1\n",
    "    return n * fact(n - 1)"
   ]
  },
  {
   "cell_type": "code",
   "execution_count": 7,
   "id": "2b73b1f0",
   "metadata": {},
   "outputs": [],
   "source": [
    "def stima_py():\n",
    "    MIN_VALUE = 1e-15\n",
    "    k, val, somm = 0, MIN_VALUE + 1, 0\n",
    "    \n",
    "    while val >= MIN_VALUE:\n",
    "        n = fact(4 * k) * (1103 + 26390 * k) / (fact(k) ** 4 * 396 ** (4 * k))\n",
    "        somm += n\n",
    "        k += 1\n",
    "        val = abs(2 * sqrt(2) / 9801 * n)\n",
    "\n",
    "    return 1 / (somm * 2 * sqrt(2) / 9801)"
   ]
  },
  {
   "cell_type": "code",
   "execution_count": 11,
   "id": "dbf2739d",
   "metadata": {},
   "outputs": [
    {
     "data": {
      "text/plain": [
       "3.141592653589793"
      ]
     },
     "execution_count": 11,
     "metadata": {},
     "output_type": "execute_result"
    }
   ],
   "source": [
    "stima_py()"
   ]
  },
  {
   "cell_type": "code",
   "execution_count": null,
   "id": "da50cc7f",
   "metadata": {},
   "outputs": [],
   "source": []
  }
 ],
 "metadata": {
  "kernelspec": {
   "display_name": "Python 3 (ipykernel)",
   "language": "python",
   "name": "python3"
  },
  "language_info": {
   "codemirror_mode": {
    "name": "ipython",
    "version": 3
   },
   "file_extension": ".py",
   "mimetype": "text/x-python",
   "name": "python",
   "nbconvert_exporter": "python",
   "pygments_lexer": "ipython3",
   "version": "3.11.4"
  }
 },
 "nbformat": 4,
 "nbformat_minor": 5
}

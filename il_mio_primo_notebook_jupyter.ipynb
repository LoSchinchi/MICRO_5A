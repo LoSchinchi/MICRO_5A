{
 "cells": [
  {
   "cell_type": "code",
   "execution_count": 1,
   "id": "dce63f4a",
   "metadata": {},
   "outputs": [],
   "source": [
    "import random"
   ]
  },
  {
   "cell_type": "code",
   "execution_count": 6,
   "id": "46fa8193",
   "metadata": {},
   "outputs": [
    {
     "data": {
      "text/plain": [
       "4"
      ]
     },
     "execution_count": 6,
     "metadata": {},
     "output_type": "execute_result"
    }
   ],
   "source": [
    "random.randint(0, 5)"
   ]
  },
  {
   "cell_type": "code",
   "execution_count": 10,
   "id": "941634b7",
   "metadata": {},
   "outputs": [
    {
     "data": {
      "text/plain": [
       "6.148047613828132"
      ]
     },
     "execution_count": 10,
     "metadata": {},
     "output_type": "execute_result"
    }
   ],
   "source": [
    "random.uniform(0, 8)"
   ]
  },
  {
   "cell_type": "code",
   "execution_count": 13,
   "id": "1319dc82",
   "metadata": {},
   "outputs": [
    {
     "name": "stdout",
     "output_type": "stream",
     "text": [
      "5.657157816473503\n",
      "1.9572200882349344\n",
      "7.126283049683871\n",
      "3.341053809608715\n",
      "6.636637241193548\n",
      "6.944100577405266\n",
      "7.63167048470145\n",
      "0.991422529919429\n",
      "2.4324387406988954\n",
      "2.1213232518266647\n"
     ]
    }
   ],
   "source": [
    "for _ in range(10):\n",
    "    print(random.uniform(0, 10))"
   ]
  },
  {
   "cell_type": "code",
   "execution_count": null,
   "id": "ad5dce24",
   "metadata": {},
   "outputs": [],
   "source": []
  }
 ],
 "metadata": {
  "kernelspec": {
   "display_name": "Python 3 (ipykernel)",
   "language": "python",
   "name": "python3"
  },
  "language_info": {
   "codemirror_mode": {
    "name": "ipython",
    "version": 3
   },
   "file_extension": ".py",
   "mimetype": "text/x-python",
   "name": "python",
   "nbconvert_exporter": "python",
   "pygments_lexer": "ipython3",
   "version": "3.11.4"
  }
 },
 "nbformat": 4,
 "nbformat_minor": 5
}

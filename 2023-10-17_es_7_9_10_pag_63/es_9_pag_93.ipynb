{
 "cells": [
  {
   "cell_type": "code",
   "execution_count": 1,
   "id": "c8edb7f7",
   "metadata": {},
   "outputs": [],
   "source": [
    "import numpy as np"
   ]
  },
  {
   "cell_type": "code",
   "execution_count": 4,
   "id": "4ed904c0",
   "metadata": {},
   "outputs": [
    {
     "data": {
      "text/plain": [
       "array([183.14378148, 182.98771979, 202.99022992, 178.9277741 ,\n",
       "       191.97809793, 185.8049732 , 182.72740314, 169.68382365,\n",
       "       172.07760318, 165.85474691, 183.54867001, 183.7915478 ,\n",
       "       185.71843493, 177.32500608, 183.92756139, 162.18852603,\n",
       "       175.77850697, 181.90217721, 170.10078598, 177.25037798,\n",
       "       169.5773855 , 167.7800596 ])"
      ]
     },
     "execution_count": 4,
     "metadata": {},
     "output_type": "execute_result"
    }
   ],
   "source": [
    "altezze = np.array([183, 177, 174, 183, 178, 161,\n",
    "                  177, 185, 192, 176, 194, 178,\n",
    "                  178, 176, 169, 185, 179, 159,\n",
    "                  179, 173, 168, 180])\n",
    "\n",
    "np.random.normal(np.mean(altezze), np.std(altezze), len(altezze))"
   ]
  },
  {
   "cell_type": "code",
   "execution_count": 5,
   "id": "1b020f1d",
   "metadata": {},
   "outputs": [
    {
     "data": {
      "text/plain": [
       "array([175.62817901, 171.24180326, 183.8786533 , ..., 178.44665719,\n",
       "       169.30994559, 172.26025125])"
      ]
     },
     "execution_count": 5,
     "metadata": {},
     "output_type": "execute_result"
    }
   ],
   "source": [
    "altezze_itis = np.random.normal(np.mean(altezze), np.std(altezze), 1200)\n",
    "altezze_itis"
   ]
  },
  {
   "cell_type": "code",
   "execution_count": 7,
   "id": "33d6b6ed",
   "metadata": {},
   "outputs": [
    {
     "data": {
      "text/plain": [
       "3"
      ]
     },
     "execution_count": 7,
     "metadata": {},
     "output_type": "execute_result"
    }
   ],
   "source": [
    "np.count_nonzero(altezze_itis > 200)"
   ]
  },
  {
   "cell_type": "code",
   "execution_count": 8,
   "id": "1eb2a30f",
   "metadata": {},
   "outputs": [
    {
     "data": {
      "text/plain": [
       "array([203.40696752, 201.29561418, 200.93691146])"
      ]
     },
     "execution_count": 8,
     "metadata": {},
     "output_type": "execute_result"
    }
   ],
   "source": [
    "altezze_itis[altezze_itis > 200]"
   ]
  },
  {
   "cell_type": "code",
   "execution_count": null,
   "id": "f03d6856",
   "metadata": {},
   "outputs": [],
   "source": []
  }
 ],
 "metadata": {
  "kernelspec": {
   "display_name": "Python 3 (ipykernel)",
   "language": "python",
   "name": "python3"
  },
  "language_info": {
   "codemirror_mode": {
    "name": "ipython",
    "version": 3
   },
   "file_extension": ".py",
   "mimetype": "text/x-python",
   "name": "python",
   "nbconvert_exporter": "python",
   "pygments_lexer": "ipython3",
   "version": "3.11.4"
  }
 },
 "nbformat": 4,
 "nbformat_minor": 5
}

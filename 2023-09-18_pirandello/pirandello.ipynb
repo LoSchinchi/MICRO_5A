{
 "cells": [
  {
   "cell_type": "code",
   "execution_count": 1,
   "id": "e6b9f3ce",
   "metadata": {},
   "outputs": [],
   "source": [
    "import string\n",
    "\n",
    "# assegno a book tutto ciò che c'è scritto sul file facendo la concatenazione tra tutte le righe\n",
    "fp = open('libro.txt', 'r')\n",
    "book = ''.join(fp.readlines())\n",
    "fp.close()\n",
    "#print(book)"
   ]
  },
  {
   "cell_type": "code",
   "execution_count": 2,
   "id": "030f9bdc",
   "metadata": {},
   "outputs": [],
   "source": [
    "# ciclo su tutti i segni di punteggiatura e gli spazi: li sostituisco con ' ' nella variabile book\n",
    "for punt in string.punctuation:\n",
    "    book = book.replace(punt, ' ')\n",
    "    \n",
    "for ws in string.whitespace:\n",
    "    if ws != ' ':\n",
    "        book = book.replace(ws, ' ')\n",
    "#print(book)"
   ]
  },
  {
   "cell_type": "code",
   "execution_count": 3,
   "id": "f19a577a",
   "metadata": {},
   "outputs": [],
   "source": [
    "# divido il libro in una lista di parole, se ci sono caratteri '' dovuti da 2 segni di punteggiatura vicini li tolgo\n",
    "words = book.split(' ')\n",
    "while '' in words:\n",
    "    words.remove('')\n",
    "#print(words)"
   ]
  },
  {
   "cell_type": "code",
   "execution_count": 4,
   "id": "51be3d4d",
   "metadata": {},
   "outputs": [
    {
     "name": "stdout",
     "output_type": "stream",
     "text": [
      "numero di parole adiacenti (min 2): 50\n",
      "lunghezza della frase: 500\n",
      "text:\n",
      "il capocomico su su signori ci siamo tutti attenzione attenzione si comincia macchinista il macchinista eccomi qua il capocomico disponga subito la scena della saletta basteranno due fiancate e un fondalino con la porta subito mi raccomando il macchinista correrà subito ad eseguire e mentre il capocomico s intenderà col direttore di scena col trovarobe col suggeritore e con gli attori intorno alla rappresentazione imminente disporrà quel simulacro di scena indicata due fiancate e un fondalino con la porta a strisce rosa e oro il capocomico al trovarobe lei veda un po se c è in magazzino un letto a sedere il trovarobe sissignore c è quello verde la figliastra no no che verde era giallo fiorato di «peluche» molto grande comodissimo il trovarobe eh così non c è il capocomico ma non importa metta quello che c è la figliastra come non importa la greppina famosa di madama pace il capocomico adesso è per provare la prego non s immischi al direttore di scena guardi se c è una vetrina piuttosto lunga e bassa la figliastra il tavolino il tavolino di mogano per la busta cilestrina il direttore di scena al capocomico c è quello piccolo dorato il capocomico va bene prenda quello il padre una specchiera la figliastra e il paravento un paravento mi raccomando se no come faccio il direttore di scena sissignora paraventi ne abbiamo tanti non dubiti il capocomico alla figliastra poi qualche attaccapanni è vero la figliastra sì molti molti il capocomico al direttore di scena veda quanti ce n è e li faccia portare il direttore di scena sissignore penso io il direttore di scena correrà anche lui a eseguire e mentre il capocomico seguiterà a parlare col suggeritore e poi coi personaggi e gli attori farà trasportare i mobili indicati dai servi di scena e li disporrà come crederà più opportuno il capocomico al suggeritore lei intanto prenda posto guardi questa è la traccia delle scene atto per atto gli porgerà alcuni fogli di carta ma bisogna che ora lei faccia una bravura il suggeritore stenografare il capocomico con lieta sorpresa ah benissimo conosce la stenografia il suggeritore non saprò suggerire ma la stenografia il capocomico ma allora di bene in meglio rivolgendosi a un servo di scena vada a prendere la carta nel mio camerino molta molta quanta ne trova il servo di scena correrà e ritornerà poco dopo con un bel fascio di carta che porgerà al suggeritore il capocomico seguitando al suggeritore segua le scene man mano che saranno rappresentate e cerchi di fissare le battute almeno le più importanti poi rivolgendosi agli attori sgombrino signori ecco si mettano da questa parte indicherà la sinistra e stiano bene attenti la prima attrice ma scusi noi il capocomico prevenendola non ci sarà da improvvisare stia tranquilla il primo attore e che dobbiamo fare il capocomico niente stare a sentire e guardare per ora avrà ciascuno poi la sua parte scritta ora si farà così alla meglio una prova la faranno\n"
     ]
    }
   ],
   "source": [
    "from random import choice\n",
    "\n",
    "# chiedo il numero dei n_grammi e la lunghezza della frase\n",
    "n_par = int(input('numero di parole adiacenti (min 2): '))\n",
    "lung = int(input('lunghezza della frase: '))\n",
    "\n",
    "# creo una lista con tutte le n_par parole adiacenti in tutto il libro\n",
    "wordsGroup = [' '.join(words[i - n_par: i]) for i in range(n_par, len(words))]\n",
    "#print(wordsGroup)\n",
    "\n",
    "# da wordsGroup, creo il dizionario diz_n_grammi con keys le stringhe _s in wordsGroup e values una lista con tutte le parole successive a _s\n",
    "diz_n_grammi = {}\n",
    "for i, coppia in enumerate(wordsGroup):\n",
    "    co = coppia.lower()\n",
    "    if co not in diz_n_grammi:\n",
    "        diz_n_grammi[co] = []\n",
    "        \n",
    "    if i > 0:\n",
    "        diz_n_grammi[wordsGroup[i - 1].lower()].append(co.split(' ')[-1])\n",
    "#print(diz_n_grammi)\n",
    "\n",
    "# estraggo a sorte una key dal dizianario e la splitto in più parole\n",
    "arr_text = choice(list(diz_n_grammi.keys())).split(' ')\n",
    "\n",
    "def setText(arr):\n",
    "    # accedo alla variabile arr_text\n",
    "    global arr_text\n",
    "    \n",
    "    # esco dalla funzione se la lista con le parole generate è >= alla lunghezza chiesta\n",
    "    if len(arr_text) >= lung:\n",
    "        arr_text = arr_text[:lung]\n",
    "        return\n",
    "    \n",
    "    # aggiungo ad arr_text una delle parole della value del dzionario passato per parametro\n",
    "    arr_text.append(choice(arr))\n",
    "    # funzione ricorsiva per incrementare di una parola arr_text passando per parametro le ultime n_par parole di arr_text\n",
    "    setText(diz_n_grammi[' '.join(arr_text[-n_par:])])\n",
    "    \n",
    "#richiamo la funzione per settare arr_text e unisco tutte le parole della variabile con lo spazio\n",
    "setText(diz_n_grammi[' '.join(arr_text)])\n",
    "text = ' '.join(arr_text)\n",
    "print(f'text:\\n{text}')\n"
   ]
  },
  {
   "cell_type": "code",
   "execution_count": null,
   "id": "19d12c95",
   "metadata": {},
   "outputs": [],
   "source": []
  }
 ],
 "metadata": {
  "kernelspec": {
   "display_name": "Python 3 (ipykernel)",
   "language": "python",
   "name": "python3"
  },
  "language_info": {
   "codemirror_mode": {
    "name": "ipython",
    "version": 3
   },
   "file_extension": ".py",
   "mimetype": "text/x-python",
   "name": "python",
   "nbconvert_exporter": "python",
   "pygments_lexer": "ipython3",
   "version": "3.11.4"
  }
 },
 "nbformat": 4,
 "nbformat_minor": 5
}
